{
 "cells": [
  {
   "cell_type": "markdown",
   "id": "58b34768-3fb0-4f5a-a021-7bd05674c41a",
   "metadata": {},
   "source": [
    "1.Sayılardan oluşan bir boyutlu array oluşturun. Arrayi oluştururken sayıların veri tipini integer olarak belirtelim."
   ]
  },
  {
   "cell_type": "code",
   "execution_count": 2,
   "id": "767d17ec-50d6-45d4-b5e7-1187123fc826",
   "metadata": {},
   "outputs": [],
   "source": [
    "import numpy as np"
   ]
  },
  {
   "cell_type": "code",
   "execution_count": 3,
   "id": "de9d4841-81f2-4ef9-9648-76d75b9e36f6",
   "metadata": {},
   "outputs": [],
   "source": [
    "dizi=np.array([20,50,68,45,60],dtype=\"int\")"
   ]
  },
  {
   "cell_type": "code",
   "execution_count": 4,
   "id": "380ce4af-3281-481e-bd1b-7895b6375de2",
   "metadata": {},
   "outputs": [
    {
     "name": "stdout",
     "output_type": "stream",
     "text": [
      "[20 50 68 45 60]\n"
     ]
    }
   ],
   "source": [
    "print(dizi)"
   ]
  },
  {
   "cell_type": "markdown",
   "id": "09d62af8-2004-4e39-8752-41d7b6726231",
   "metadata": {},
   "source": [
    "Oluşturulan arrayin boyut, eleman sayısı bilgilerine bakalım."
   ]
  },
  {
   "cell_type": "code",
   "execution_count": 9,
   "id": "b04c2c31-6c21-4151-b300-e662a5c1de94",
   "metadata": {},
   "outputs": [
    {
     "data": {
      "text/plain": [
       "1"
      ]
     },
     "execution_count": 9,
     "metadata": {},
     "output_type": "execute_result"
    }
   ],
   "source": [
    "boyut=dizi.ndim\n",
    "boyut"
   ]
  },
  {
   "cell_type": "code",
   "execution_count": 10,
   "id": "9ae181eb-1a12-402b-9c61-313e7d412f46",
   "metadata": {},
   "outputs": [
    {
     "data": {
      "text/plain": [
       "5"
      ]
     },
     "execution_count": 10,
     "metadata": {},
     "output_type": "execute_result"
    }
   ],
   "source": [
    "elemanSayisi=dizi.size\n",
    "elemanSayisi"
   ]
  },
  {
   "cell_type": "markdown",
   "id": "a80207d9-3f1d-475f-a288-e1e5dd3b9e71",
   "metadata": {},
   "source": [
    "2. Aşağıda verilen iki boyutlu ve üç boyutlu arrayi oluşturalım. Bu arraylerin boyut, eleman sayısı, satır, sütun bilgilerine ulaşalım.\n",
    "\n",
    "İki boyutlu array:\n",
    "[[1,2,6,7],\n",
    "[4,3,9,5]]\n",
    "\n",
    "Üç boyutlu array:\n",
    "[[[7,5,14],[21,8,11]],\n",
    "[[8,6,20],[14,3,9]]]"
   ]
  },
  {
   "cell_type": "code",
   "execution_count": 11,
   "id": "945410af-6f64-4934-b626-f177de91ca1c",
   "metadata": {},
   "outputs": [],
   "source": [
    "ikiBoyutluArray = np.array([[1,2,6,7], [4,3,9,5]])"
   ]
  },
  {
   "cell_type": "code",
   "execution_count": 12,
   "id": "bb95046b-6e3d-4ed0-82fa-fa69fa432b73",
   "metadata": {},
   "outputs": [],
   "source": [
    "ucBoyutluArray = np.array([[[7,5,14],[21,8,11]], [[8,6,20],[14,3,9]]])"
   ]
  },
  {
   "cell_type": "code",
   "execution_count": 13,
   "id": "570443a8-d94b-435b-99eb-d1c6efec2a2a",
   "metadata": {},
   "outputs": [
    {
     "data": {
      "text/plain": [
       "2"
      ]
     },
     "execution_count": 13,
     "metadata": {},
     "output_type": "execute_result"
    }
   ],
   "source": [
    "#İki Boyutlu Arrayin Boyutu\n",
    "ikiBoyutluArray.ndim"
   ]
  },
  {
   "cell_type": "code",
   "execution_count": 15,
   "id": "a43a8b10-d4f2-4233-acfa-5877eb37c09b",
   "metadata": {},
   "outputs": [
    {
     "data": {
      "text/plain": [
       "3"
      ]
     },
     "execution_count": 15,
     "metadata": {},
     "output_type": "execute_result"
    }
   ],
   "source": [
    "#Üç Boyutlu Arrayin Boyutu\n",
    "ucBoyutluArray.ndim"
   ]
  },
  {
   "cell_type": "code",
   "execution_count": 16,
   "id": "a6900071-cc88-4f74-b3c0-96d5dbe28b85",
   "metadata": {},
   "outputs": [
    {
     "data": {
      "text/plain": [
       "8"
      ]
     },
     "execution_count": 16,
     "metadata": {},
     "output_type": "execute_result"
    }
   ],
   "source": [
    "#İki Boyutlu Arrayin Eleman Sayısı\n",
    "ikiBoyutluArray.size"
   ]
  },
  {
   "cell_type": "code",
   "execution_count": 17,
   "id": "2698edb8-e84e-4cdc-b6be-88e1f3a36ad0",
   "metadata": {},
   "outputs": [
    {
     "data": {
      "text/plain": [
       "12"
      ]
     },
     "execution_count": 17,
     "metadata": {},
     "output_type": "execute_result"
    }
   ],
   "source": [
    "#Üç Boyutlu Arrayin Eleman Sayısı\n",
    "ucBoyutluArray.size"
   ]
  },
  {
   "cell_type": "code",
   "execution_count": 18,
   "id": "0ab4bdf2-e07c-49cf-9273-f361d9a68b02",
   "metadata": {},
   "outputs": [
    {
     "data": {
      "text/plain": [
       "(2, 4)"
      ]
     },
     "execution_count": 18,
     "metadata": {},
     "output_type": "execute_result"
    }
   ],
   "source": [
    "#İki Boyutlu Arrayin Satır ve Sütun Bilgileri\n",
    "np.shape(ikiBoyutluArray)"
   ]
  },
  {
   "cell_type": "code",
   "execution_count": 19,
   "id": "77438275-7b97-4d10-b3cd-b68350e7f43a",
   "metadata": {},
   "outputs": [
    {
     "data": {
      "text/plain": [
       "(2, 2, 3)"
      ]
     },
     "execution_count": 19,
     "metadata": {},
     "output_type": "execute_result"
    }
   ],
   "source": [
    "#Üç Boyutlu Arrayin Satır ve Sütun Bilgileri\n",
    "np.shape(ucBoyutluArray)"
   ]
  },
  {
   "cell_type": "markdown",
   "id": "81074206-03a5-41cd-948b-3efa4940d299",
   "metadata": {},
   "source": [
    "3. İstenilen elamanlara ulaşmak için arrayler üzerinde indexleme işlemi yapalım."
   ]
  },
  {
   "cell_type": "markdown",
   "id": "f62b6ff2-16a8-4dc6-b8ea-78474b9a9f50",
   "metadata": {},
   "source": [
    "İki boyutlu arraydaki 2 elemanına ulaşalım."
   ]
  },
  {
   "cell_type": "code",
   "execution_count": 20,
   "id": "bef80376-26fd-4a70-9ca8-016e3ce37864",
   "metadata": {},
   "outputs": [
    {
     "data": {
      "text/plain": [
       "2"
      ]
     },
     "execution_count": 20,
     "metadata": {},
     "output_type": "execute_result"
    }
   ],
   "source": [
    "ikiBoyutluArray[0,1]"
   ]
  },
  {
   "cell_type": "markdown",
   "id": "8eda5c96-22fb-483f-b507-d367c34e37d0",
   "metadata": {},
   "source": [
    "İki boyutlu arraydaki 7 elemanına ulaşalım."
   ]
  },
  {
   "cell_type": "code",
   "execution_count": 21,
   "id": "0a8286c7-bbcc-467f-9332-7a559a7f8215",
   "metadata": {},
   "outputs": [
    {
     "data": {
      "text/plain": [
       "7"
      ]
     },
     "execution_count": 21,
     "metadata": {},
     "output_type": "execute_result"
    }
   ],
   "source": [
    "ikiBoyutluArray[0,3]"
   ]
  },
  {
   "cell_type": "markdown",
   "id": "ac300624-7741-4d36-9b2d-cd76d400bcc4",
   "metadata": {},
   "source": [
    "Üç boyutlu arraydaki 9 elemanına ulaşalım."
   ]
  },
  {
   "cell_type": "code",
   "execution_count": 22,
   "id": "c918f3fc-9d37-4946-8b24-341418033eab",
   "metadata": {},
   "outputs": [
    {
     "data": {
      "text/plain": [
       "9"
      ]
     },
     "execution_count": 22,
     "metadata": {},
     "output_type": "execute_result"
    }
   ],
   "source": [
    "ucBoyutluArray[1,1,2]"
   ]
  },
  {
   "cell_type": "markdown",
   "id": "c4bdcc23-1204-444e-9241-09b7451afcdf",
   "metadata": {},
   "source": [
    "Üç boyutlu arraydaki 5 elemanına ulaşalım."
   ]
  },
  {
   "cell_type": "code",
   "execution_count": 23,
   "id": "99ee7542-d4c0-470a-9bc9-ad385f01ec71",
   "metadata": {},
   "outputs": [
    {
     "data": {
      "text/plain": [
       "5"
      ]
     },
     "execution_count": 23,
     "metadata": {},
     "output_type": "execute_result"
    }
   ],
   "source": [
    "ucBoyutluArray[0,0,1]"
   ]
  },
  {
   "cell_type": "markdown",
   "id": "293d3165-7a31-4120-9d1f-b76e2123d8de",
   "metadata": {},
   "source": [
    "4. Arrayler üzerinde slicing işlemi uygulayalım."
   ]
  },
  {
   "cell_type": "markdown",
   "id": "e5a1ccc8-fae9-4213-ad4d-ea41ab5fe2f5",
   "metadata": {},
   "source": [
    "İki boyutlu arraydaki 2,6 elemanlarına ulaşalım."
   ]
  },
  {
   "cell_type": "code",
   "execution_count": 27,
   "id": "da3b5084-39f1-4fe6-994e-8e0cb8463d7f",
   "metadata": {},
   "outputs": [
    {
     "data": {
      "text/plain": [
       "array([2, 6])"
      ]
     },
     "execution_count": 27,
     "metadata": {},
     "output_type": "execute_result"
    }
   ],
   "source": [
    "ikiBoyutluArray[0,1:3]"
   ]
  },
  {
   "cell_type": "markdown",
   "id": "a0035f8d-6d7a-4044-b74d-f124c810fe7c",
   "metadata": {},
   "source": [
    "İki boyutlu arraydaki 3,9,5 elemanlarına ulaşalım."
   ]
  },
  {
   "cell_type": "code",
   "execution_count": 25,
   "id": "92af7b2c-f1f3-49d4-8add-d2aea1a930bb",
   "metadata": {},
   "outputs": [
    {
     "data": {
      "text/plain": [
       "array([3, 9, 5])"
      ]
     },
     "execution_count": 25,
     "metadata": {},
     "output_type": "execute_result"
    }
   ],
   "source": [
    "ikiBoyutluArray[1,1:]"
   ]
  },
  {
   "cell_type": "markdown",
   "id": "9949ce4d-18bc-4675-b2d6-2a140dde84d0",
   "metadata": {},
   "source": [
    "Üç boyutlu arraydaki 21,8,11 elemanlarına ulaşalım."
   ]
  },
  {
   "cell_type": "code",
   "execution_count": 28,
   "id": "a0ddc6e5-440c-41a4-a26c-b145e80057e9",
   "metadata": {},
   "outputs": [
    {
     "data": {
      "text/plain": [
       "array([21,  8, 11])"
      ]
     },
     "execution_count": 28,
     "metadata": {},
     "output_type": "execute_result"
    }
   ],
   "source": [
    "ucBoyutluArray[0,1,:]"
   ]
  },
  {
   "cell_type": "markdown",
   "id": "62ef4448-fe53-48c4-ba93-8f6520582f92",
   "metadata": {},
   "source": [
    "Üç boyutlu arraydaki 6,20 elemanlarına ulaşalım."
   ]
  },
  {
   "cell_type": "code",
   "execution_count": 29,
   "id": "377d5c6d-0954-449a-9fec-7eb88ae14b60",
   "metadata": {},
   "outputs": [
    {
     "data": {
      "text/plain": [
       "array([ 6, 20])"
      ]
     },
     "execution_count": 29,
     "metadata": {},
     "output_type": "execute_result"
    }
   ],
   "source": [
    "ucBoyutluArray[1,0,1:]"
   ]
  },
  {
   "cell_type": "markdown",
   "id": "7fac4433-3dd9-4281-a9b9-36b8bd1c53ce",
   "metadata": {},
   "source": [
    "5. 5 satır 3 sütunluk sıfırlardan ve birlerden oluşan iki tane iki boyutlu array oluşturalım. Bu arrayleri satır ve sütun bazında birleştirelim."
   ]
  },
  {
   "cell_type": "code",
   "execution_count": 33,
   "id": "1cfb2c90-2011-4caf-b26a-97b6c03d2877",
   "metadata": {},
   "outputs": [
    {
     "data": {
      "text/plain": [
       "array([[0, 0, 0],\n",
       "       [0, 0, 0],\n",
       "       [0, 0, 0],\n",
       "       [0, 0, 0],\n",
       "       [0, 0, 0]])"
      ]
     },
     "execution_count": 33,
     "metadata": {},
     "output_type": "execute_result"
    }
   ],
   "source": [
    "sifir=np.zeros((5,3), dtype = \"int\")\n",
    "sifir"
   ]
  },
  {
   "cell_type": "code",
   "execution_count": 34,
   "id": "3f0ad84d-c01b-4d4e-95b7-48e40c9a861d",
   "metadata": {},
   "outputs": [
    {
     "data": {
      "text/plain": [
       "array([[1, 1, 1],\n",
       "       [1, 1, 1],\n",
       "       [1, 1, 1],\n",
       "       [1, 1, 1],\n",
       "       [1, 1, 1]])"
      ]
     },
     "execution_count": 34,
     "metadata": {},
     "output_type": "execute_result"
    }
   ],
   "source": [
    "bir=np.ones((5,3), dtype = \"int\")\n",
    "bir"
   ]
  },
  {
   "cell_type": "code",
   "execution_count": 35,
   "id": "4334e116-507a-48f8-9ac5-2aa89507c13c",
   "metadata": {},
   "outputs": [
    {
     "data": {
      "text/plain": [
       "array([[0, 0, 0],\n",
       "       [0, 0, 0],\n",
       "       [0, 0, 0],\n",
       "       [0, 0, 0],\n",
       "       [0, 0, 0],\n",
       "       [1, 1, 1],\n",
       "       [1, 1, 1],\n",
       "       [1, 1, 1],\n",
       "       [1, 1, 1],\n",
       "       [1, 1, 1]])"
      ]
     },
     "execution_count": 35,
     "metadata": {},
     "output_type": "execute_result"
    }
   ],
   "source": [
    "np.concatenate([sifir,bir])"
   ]
  }
 ],
 "metadata": {
  "kernelspec": {
   "display_name": "Python 3 (ipykernel)",
   "language": "python",
   "name": "python3"
  },
  "language_info": {
   "codemirror_mode": {
    "name": "ipython",
    "version": 3
   },
   "file_extension": ".py",
   "mimetype": "text/x-python",
   "name": "python",
   "nbconvert_exporter": "python",
   "pygments_lexer": "ipython3",
   "version": "3.12.7"
  }
 },
 "nbformat": 4,
 "nbformat_minor": 5
}
